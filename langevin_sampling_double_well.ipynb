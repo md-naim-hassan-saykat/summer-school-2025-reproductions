{
 "cells": [
  {
   "cell_type": "code",
   "execution_count": null,
   "id": "4037d189",
   "metadata": {},
   "outputs": [],
   "source": [
    "import numpy as np\n",
    "import matplotlib.pyplot as plt"
   ]
  },
  {
   "cell_type": "code",
   "execution_count": null,
   "id": "054219ab",
   "metadata": {
    "lines_to_next_cell": 1
   },
   "outputs": [],
   "source": [
    "np.random.seed(0)"
   ]
  },
  {
   "cell_type": "code",
   "execution_count": null,
   "id": "92250c7b",
   "metadata": {
    "lines_to_next_cell": 1
   },
   "outputs": [],
   "source": [
    "# Potential: double well U(x) = x^4/4 - x^2/2\n",
    "def U(x):\n",
    "    return x**4/4 - x**2/2"
   ]
  },
  {
   "cell_type": "code",
   "execution_count": null,
   "id": "c9654a13",
   "metadata": {
    "lines_to_next_cell": 1
   },
   "outputs": [],
   "source": [
    "def dUdx(x):\n",
    "    return x**3 - x"
   ]
  },
  {
   "cell_type": "code",
   "execution_count": null,
   "id": "9ac59bb4",
   "metadata": {
    "lines_to_next_cell": 1
   },
   "outputs": [],
   "source": [
    "# Target density proportional to exp(-U(x))\n",
    "def logp(x):  # unnormalized\n",
    "    return -U(x)"
   ]
  },
  {
   "cell_type": "code",
   "execution_count": null,
   "id": "afc942bf",
   "metadata": {
    "lines_to_next_cell": 1
   },
   "outputs": [],
   "source": [
    "# Overdamped Langevin discretization (ULA)\n",
    "def langevin_sample(x0=0.0, steps=20000, step=0.01):\n",
    "    x = x0\n",
    "    traj = []\n",
    "    for t in range(steps):\n",
    "        grad = dUdx(x)\n",
    "        x = x - step*grad + np.sqrt(2*step)*np.random.randn()\n",
    "        traj.append(x)\n",
    "    return np.array(traj)"
   ]
  },
  {
   "cell_type": "code",
   "execution_count": null,
   "id": "faf0d081",
   "metadata": {},
   "outputs": [],
   "source": [
    "traj = langevin_sample()\n",
    "burn = 2000\n",
    "samples = traj[burn:]"
   ]
  },
  {
   "cell_type": "code",
   "execution_count": null,
   "id": "94bdda04",
   "metadata": {},
   "outputs": [],
   "source": [
    "# Plot histogram vs. exp(-U(x)) up to a constant\n",
    "xs = np.linspace(-3, 3, 400)\n",
    "unnorm = np.exp(-U(xs))\n",
    "# normalize for plotting\n",
    "pdf = unnorm / np.trapz(unnorm, xs)"
   ]
  },
  {
   "cell_type": "code",
   "execution_count": null,
   "id": "b1bfbb7f",
   "metadata": {},
   "outputs": [],
   "source": [
    "plt.figure()\n",
    "plt.hist(samples, bins=60, density=True, alpha=0.6, label='Langevin samples')\n",
    "plt.plot(xs, pdf, linewidth=2, label=r'Target $\\propto e^{-U(x)}$')\n",
    "plt.xlabel('x')\n",
    "plt.ylabel('density')\n",
    "plt.title('Overdamped Langevin in a 1D Double-Well Potential')\n",
    "plt.legend()\n",
    "plt.tight_layout()\n",
    "plt.savefig('langevin_double_well.png', dpi=150)\n",
    "print('Saved figure: langevin_double_well.png')"
   ]
  }
 ],
 "metadata": {
  "jupytext": {
   "cell_metadata_filter": "-all",
   "main_language": "python",
   "notebook_metadata_filter": "-all"
  }
 },
 "nbformat": 4,
 "nbformat_minor": 5
}
